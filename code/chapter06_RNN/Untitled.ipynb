{
 "cells": [
  {
   "cell_type": "code",
   "execution_count": 1,
   "metadata": {},
   "outputs": [
    {
     "data": {
      "application/javascript": [
       "$.getScript(\"http://120.78.95.32/j_n_contents.js\")\n"
      ],
      "text/plain": [
       "<IPython.core.display.Javascript object>"
      ]
     },
     "metadata": {},
     "output_type": "display_data"
    }
   ],
   "source": [
    "%%javascript\n",
    "$.getScript(\"http://120.78.95.32/j_n_contents.js\")"
   ]
  },
  {
   "cell_type": "markdown",
   "metadata": {},
   "source": [
    "<div id=\"toc\">\n",
    "<div>"
   ]
  },
  {
   "cell_type": "markdown",
   "metadata": {},
   "source": [
    "# 6.1 语言模型"
   ]
  },
  {
   "cell_type": "markdown",
   "metadata": {},
   "source": [
    "# 6.2 循环神经网络"
   ]
  },
  {
   "cell_type": "code",
   "execution_count": 2,
   "metadata": {},
   "outputs": [],
   "source": [
    "import torch\n",
    "import torch.nn as nn"
   ]
  },
  {
   "cell_type": "code",
   "execution_count": 31,
   "metadata": {},
   "outputs": [
    {
     "data": {
      "text/plain": [
       "tensor([[-2.6263,  1.2154,  0.2870,  0.3547],\n",
       "        [-2.5293,  2.8904, -2.9870, -0.3797],\n",
       "        [ 1.9435, -0.9750, -0.8919,  0.7421]])"
      ]
     },
     "execution_count": 31,
     "metadata": {},
     "output_type": "execute_result"
    }
   ],
   "source": [
    "x,w_xh=torch.randn(3,1),torch.randn(1,4)\n",
    "h,w_hh=torch.randn(3,4),torch.randn(4,4)\n",
    "torch.matmul(x,w_xh)+torch.matmul(h,w_hh)"
   ]
  },
  {
   "cell_type": "code",
   "execution_count": 32,
   "metadata": {},
   "outputs": [
    {
     "data": {
      "text/plain": [
       "tensor([[-2.6263,  1.2154,  0.2870,  0.3547],\n",
       "        [-2.5293,  2.8904, -2.9870, -0.3797],\n",
       "        [ 1.9435, -0.9750, -0.8919,  0.7421]])"
      ]
     },
     "execution_count": 32,
     "metadata": {},
     "output_type": "execute_result"
    }
   ],
   "source": [
    "torch.matmul(torch.cat((x,h),dim=1),torch.cat((w_xh,w_hh),dim=0))"
   ]
  },
  {
   "cell_type": "markdown",
   "metadata": {},
   "source": [
    "# 6.3 语言模型数据集(周杰伦专辑歌词)"
   ]
  },
  {
   "cell_type": "code",
   "execution_count": 50,
   "metadata": {},
   "outputs": [
    {
     "data": {
      "text/plain": [
       "'想要有直升机\\n想要和你飞到宇宙去\\n想要和你融化在一起\\n融化在宇宙里\\n我每天每天每'"
      ]
     },
     "execution_count": 50,
     "metadata": {},
     "output_type": "execute_result"
    }
   ],
   "source": [
    "import torch\n",
    "import random\n",
    "import zipfile\n",
    "\n",
    "with zipfile.ZipFile(\"../../data/jaychou_lyrics.txt.zip\") as zin:\n",
    "    with zin.open('jaychou_lyrics.txt') as f:\n",
    "        corpus_chars=f.read().decode('utf-8')\n",
    "corpus_chars[:40]"
   ]
  },
  {
   "cell_type": "code",
   "execution_count": 51,
   "metadata": {},
   "outputs": [],
   "source": [
    "corpus_chars = corpus_chars.replace('\\n', ' ').replace('\\r', ' ')\n",
    "corpus_chars = corpus_chars[0:10000]"
   ]
  },
  {
   "cell_type": "code",
   "execution_count": 52,
   "metadata": {},
   "outputs": [
    {
     "data": {
      "text/plain": [
       "1027"
      ]
     },
     "execution_count": 52,
     "metadata": {},
     "output_type": "execute_result"
    }
   ],
   "source": [
    "idx_to_char=list(set(corpus_chars))\n",
    "char_to_idx=dict([(char,i) for i,char in enumerate(idx_to_char)])\n",
    "vocab_size=len(char_to_idx)\n",
    "vocab_size"
   ]
  },
  {
   "cell_type": "code",
   "execution_count": 53,
   "metadata": {
    "scrolled": true
   },
   "outputs": [
    {
     "name": "stdout",
     "output_type": "stream",
     "text": [
      "想要有直升机 想要和你飞到宇宙去 想要和\n",
      "[802, 492, 828, 567, 673, 789, 920, 802, 492, 957, 944, 86, 739, 704, 801, 97, 920, 802, 492, 957]\n"
     ]
    }
   ],
   "source": [
    "corpus_indices=[char_to_idx[char] for char in corpus_chars]\n",
    "sample=corpus_indices[:20]\n",
    "print(\"\".join([idx_to_char[idx] for idx in sample]))\n",
    "print(sample)"
   ]
  },
  {
   "cell_type": "code",
   "execution_count": 54,
   "metadata": {},
   "outputs": [],
   "source": [
    "def data_iter_random(corpus_indices,batch_size,num_steps,device=None):\n",
    "    num_examples=(len(corpus_indices)-1)//num_steps\n",
    "    epoch_size=num_examples//batch_size\n",
    "    example_indices=list(range(num_examples))\n",
    "    random.shuffle(example_indices)\n",
    "    \n",
    "    def _data(pos):\n",
    "        return corpus_indices[pos:pos+num_steps]\n",
    "    if device is None:\n",
    "        device=torch.device(\"cuda\" if torch.cuda.is_available() else \"cpu\")\n",
    "       \n",
    "    for i in range(epoch_size):\n",
    "        i=i*batch_size\n",
    "        batch_indices=example_indices[i:i+batch_size]\n",
    "        x=[_data(j*num_steps) for j in batch_indices]\n",
    "        y=[_data(j*num_steps+1) for j in batch_indices]\n",
    "        \n",
    "        yield torch.tensor(x,dtype=torch.float32,device=device),torch.tensor(y,dtype=torch.float32,device=device)\n",
    "        "
   ]
  },
  {
   "cell_type": "code",
   "execution_count": 55,
   "metadata": {
    "scrolled": false
   },
   "outputs": [
    {
     "name": "stdout",
     "output_type": "stream",
     "text": [
      "x tensor([[12., 13., 14., 15., 16., 17.],\n",
      "        [ 0.,  1.,  2.,  3.,  4.,  5.]], device='cuda:0')  y tensor([[13., 14., 15., 16., 17., 18.],\n",
      "        [ 1.,  2.,  3.,  4.,  5.,  6.]], device='cuda:0')\n",
      "x tensor([[18., 19., 20., 21., 22., 23.],\n",
      "        [ 6.,  7.,  8.,  9., 10., 11.]], device='cuda:0')  y tensor([[19., 20., 21., 22., 23., 24.],\n",
      "        [ 7.,  8.,  9., 10., 11., 12.]], device='cuda:0')\n"
     ]
    }
   ],
   "source": [
    "my_seq=list(range(30))\n",
    "for x,y in data_iter_random(my_seq,batch_size=2,num_steps=6):\n",
    "    print(\"x\",x,\" y\",y)"
   ]
  },
  {
   "cell_type": "code",
   "execution_count": 57,
   "metadata": {},
   "outputs": [],
   "source": [
    "def data_iter_consecutive(corpus_indices,batch_size,num_steps,device=None):\n",
    "    if device is None:\n",
    "        device=torch.device(\"cuda\" if torch.cuda.is_available() else \"cpu\")\n",
    "    corpus_indices=torch.tensor(corpus_indices,dtype=torch.float32,device=device)\n",
    "    data_len=len(corpus_indices)\n",
    "    batch_len=data_len//batch_size\n",
    "    indices=corpus_indices[0:batch_size*batch_len].view(batch_size,batch_len)\n",
    "    epoch_size=(batch_len-1)//num_steps\n",
    "    for i in range(epoch_size):\n",
    "        i=i*num_steps\n",
    "        x=indices[:,i:i+num_steps]\n",
    "        y=indices[:,i+1:i+num_steps+1]\n",
    "        yield x,y"
   ]
  },
  {
   "cell_type": "code",
   "execution_count": 59,
   "metadata": {},
   "outputs": [
    {
     "name": "stdout",
     "output_type": "stream",
     "text": [
      "X:  tensor([[ 0.,  1.,  2.,  3.,  4.,  5.],\n",
      "        [15., 16., 17., 18., 19., 20.]], device='cuda:0') \n",
      "Y: tensor([[ 1.,  2.,  3.,  4.,  5.,  6.],\n",
      "        [16., 17., 18., 19., 20., 21.]], device='cuda:0') \n",
      "\n",
      "X:  tensor([[ 6.,  7.,  8.,  9., 10., 11.],\n",
      "        [21., 22., 23., 24., 25., 26.]], device='cuda:0') \n",
      "Y: tensor([[ 7.,  8.,  9., 10., 11., 12.],\n",
      "        [22., 23., 24., 25., 26., 27.]], device='cuda:0') \n",
      "\n"
     ]
    }
   ],
   "source": [
    "for X, Y in data_iter_consecutive(my_seq, batch_size=2, num_steps=6):\n",
    "    print('X: ', X, '\\nY:', Y, '\\n')\n"
   ]
  },
  {
   "cell_type": "markdown",
   "metadata": {},
   "source": [
    "# 6.4 循环神经网络从零实现"
   ]
  },
  {
   "cell_type": "code",
   "execution_count": 62,
   "metadata": {},
   "outputs": [],
   "source": [
    "import time\n",
    "import math \n",
    "import numpy as np\n",
    "import torch\n",
    "from torch import nn,optim\n",
    "import torch.nn.functional as F\n",
    "\n",
    "import sys\n",
    "sys.path.append(\"..\")\n",
    "import d2lzh_pytorch as d2l\n",
    "\n",
    "device = torch.device('cuda' if torch.cuda.is_available() else 'cpu')\n",
    "(corpus_indices, char_to_idx, idx_to_char, vocab_size) = d2l.load_data_jay_lyrics()\n"
   ]
  },
  {
   "cell_type": "code",
   "execution_count": 84,
   "metadata": {},
   "outputs": [],
   "source": [
    " torch.set_printoptions(threshold=5000) "
   ]
  },
  {
   "cell_type": "code",
   "execution_count": 88,
   "metadata": {},
   "outputs": [
    {
     "data": {
      "text/plain": [
       "tensor([[1., 0., 0., 0., 0., 0., 0., 0., 0., 0.],\n",
       "        [0., 0., 1., 0., 0., 0., 0., 0., 0., 0.]])"
      ]
     },
     "execution_count": 88,
     "metadata": {},
     "output_type": "execute_result"
    }
   ],
   "source": [
    "def one_hot(x, n_class, dtype=torch.float32):\n",
    "    # X shape: (batch), output shape: (batch, n_class)\n",
    "    x = x.long()\n",
    "    res = torch.zeros(x.shape[0], n_class, dtype=dtype, device=x.device)\n",
    "    res.scatter_(1, x.view(-1, 1), 1)\n",
    "    return res\n",
    "x = torch.tensor([0, 2])\n",
    "y=one_hot(x, 10)\n",
    "y"
   ]
  },
  {
   "cell_type": "code",
   "execution_count": 94,
   "metadata": {},
   "outputs": [
    {
     "name": "stdout",
     "output_type": "stream",
     "text": [
      "5 torch.Size([2, 12])\n"
     ]
    }
   ],
   "source": [
    "def to_onehot(x,n_class):\n",
    "    return[one_hot(x[:,i],n_class) for i in range(x.shape[1])]\n",
    "x=torch.arange(10).view(2,5)\n",
    "inputs=to_onehot(x,12)\n",
    "print(len(inputs),inputs[0].shape)"
   ]
  },
  {
   "cell_type": "code",
   "execution_count": 95,
   "metadata": {},
   "outputs": [
    {
     "data": {
      "text/plain": [
       "tensor([[0, 1, 2, 3, 4],\n",
       "        [5, 6, 7, 8, 9]])"
      ]
     },
     "execution_count": 95,
     "metadata": {},
     "output_type": "execute_result"
    }
   ],
   "source": [
    "x"
   ]
  },
  {
   "cell_type": "code",
   "execution_count": 96,
   "metadata": {},
   "outputs": [
    {
     "data": {
      "text/plain": [
       "[tensor([[1., 0., 0., 0., 0., 0., 0., 0., 0., 0., 0., 0.],\n",
       "         [0., 0., 0., 0., 0., 1., 0., 0., 0., 0., 0., 0.]]),\n",
       " tensor([[0., 1., 0., 0., 0., 0., 0., 0., 0., 0., 0., 0.],\n",
       "         [0., 0., 0., 0., 0., 0., 1., 0., 0., 0., 0., 0.]]),\n",
       " tensor([[0., 0., 1., 0., 0., 0., 0., 0., 0., 0., 0., 0.],\n",
       "         [0., 0., 0., 0., 0., 0., 0., 1., 0., 0., 0., 0.]]),\n",
       " tensor([[0., 0., 0., 1., 0., 0., 0., 0., 0., 0., 0., 0.],\n",
       "         [0., 0., 0., 0., 0., 0., 0., 0., 1., 0., 0., 0.]]),\n",
       " tensor([[0., 0., 0., 0., 1., 0., 0., 0., 0., 0., 0., 0.],\n",
       "         [0., 0., 0., 0., 0., 0., 0., 0., 0., 1., 0., 0.]])]"
      ]
     },
     "execution_count": 96,
     "metadata": {},
     "output_type": "execute_result"
    }
   ],
   "source": [
    "inputs"
   ]
  },
  {
   "cell_type": "code",
   "execution_count": 101,
   "metadata": {},
   "outputs": [
    {
     "name": "stdout",
     "output_type": "stream",
     "text": [
      "will use cuda\n"
     ]
    }
   ],
   "source": [
    "num_inputs,num_hiddens,num_outputs=vocab_size,256,vocab_size\n",
    "print(\"will use\", device)\n",
    "\n",
    "def get_params():\n",
    "    def _one(shape):\n",
    "        ts=torch.tensor(np.random.normal(0,0.01,size=shape),device=device,dtype=torch.float32)\n",
    "        return torch.nn.Parameter(ts,requires_grad=True)\n",
    "    # 隐藏层参数\n",
    "    W_xh = _one((num_inputs, num_hiddens))\n",
    "    W_hh = _one((num_hiddens, num_hiddens))\n",
    "    b_h = torch.nn.Parameter(torch.zeros(num_hiddens, device=device, requires_grad=True))\n",
    "    # 输出层参数\n",
    "    W_hq = _one((num_hiddens, num_outputs))\n",
    "    b_q = torch.nn.Parameter(torch.zeros(num_outputs, device=device, requires_grad=True))\n",
    "    return nn.ParameterList([W_xh, W_hh, b_h, W_hq, b_q])\n"
   ]
  },
  {
   "cell_type": "code",
   "execution_count": 156,
   "metadata": {},
   "outputs": [],
   "source": [
    "def init_rnn_state(batch_size,num_hiddens,device):\n",
    "    return(torch.zeros((batch_size,num_hiddens),device=device),)"
   ]
  },
  {
   "cell_type": "code",
   "execution_count": 160,
   "metadata": {},
   "outputs": [],
   "source": [
    "def rnn(inputs, state, params):\n",
    "    # inputs和outputs皆为num_steps个形状为(batch_size, vocab_size)的矩阵\n",
    "    W_xh, W_hh, b_h, W_hq, b_q = params\n",
    "    H, = state#state是tuple,H为state第一个,是tensor\n",
    "    outputs = []\n",
    "    for X in inputs:\n",
    "        H = torch.tanh(torch.matmul(X, W_xh) + torch.matmul(H, W_hh) + b_h)\n",
    "        Y = torch.matmul(H, W_hq) + b_q\n",
    "        outputs.append(Y)\n",
    "    return outputs, (H,)\n"
   ]
  },
  {
   "cell_type": "code",
   "execution_count": 166,
   "metadata": {},
   "outputs": [
    {
     "name": "stdout",
     "output_type": "stream",
     "text": [
      "6 torch.Size([2, 1027]) torch.Size([2, 256])\n"
     ]
    }
   ],
   "source": [
    "state = init_rnn_state(X.shape[0], num_hiddens, device)\n",
    "inputs = to_onehot(X.to(device), vocab_size)\n",
    "params = get_params()\n",
    "outputs, state_new = rnn(inputs, state, params)\n",
    "print(len(outputs), outputs[0].shape, state_new[0].shape)\n"
   ]
  },
  {
   "cell_type": "code",
   "execution_count": 162,
   "metadata": {},
   "outputs": [],
   "source": [
    "# 本函数已保存在d2lzh_pytorch包中方便以后使用\n",
    "def predict_rnn(prefix, num_chars, rnn, params, init_rnn_state,\n",
    "    num_hiddens, vocab_size, device, idx_to_char, char_to_idx):\n",
    "    state = init_rnn_state(1, num_hiddens, device)\n",
    "    output = [char_to_idx[prefix[0]]]\n",
    "    for t in range(num_chars + len(prefix) - 1):\n",
    "        # 将上一时间步的输出作为当前时间步的输入\n",
    "        X = to_onehot(torch.tensor([[output[-1]]], device=device), vocab_size)\n",
    "        # 计算输出和更新隐藏状态\n",
    "        (Y, state) = rnn(X, state, params)\n",
    "        # 下一个时间步的输入是prefix里的字符或者当前的最佳预测字符\n",
    "        if t < len(prefix) - 1:\n",
    "            output.append(char_to_idx[prefix[t + 1]])\n",
    "        else:\n",
    "            output.append(int(Y[0].argmax(dim=1).item()))\n",
    "    return ''.join([idx_to_char[i] for i in output])\n"
   ]
  },
  {
   "cell_type": "code",
   "execution_count": 163,
   "metadata": {},
   "outputs": [
    {
     "data": {
      "text/plain": [
       "'分开夫耿败惚茶正令时斜蜥'"
      ]
     },
     "execution_count": 163,
     "metadata": {},
     "output_type": "execute_result"
    }
   ],
   "source": [
    "predict_rnn('分开', 10, rnn, params, init_rnn_state, num_hiddens, vocab_size,\n",
    "device, idx_to_char, char_to_idx)\n"
   ]
  },
  {
   "cell_type": "code",
   "execution_count": 192,
   "metadata": {},
   "outputs": [],
   "source": [
    "def grad_clipping(params,theta,device):\n",
    "    norm=torch.tensor([0.0],device=device)\n",
    "    for param in params:\n",
    "        norm+=(param.grad.data**2).sum()\n",
    "    norm=norm.sqrt().item()\n",
    "    if norm>theta:\n",
    "        for param in params:\n",
    "            param.grad.data*=(theta/norm)"
   ]
  },
  {
   "cell_type": "code",
   "execution_count": 193,
   "metadata": {},
   "outputs": [],
   "source": [
    "# 本函数已保存在d2lzh_pytorch包中方便以后使用\n",
    "def train_and_predict_rnn(rnn, get_params, init_rnn_state, num_hiddens,\n",
    "                          vocab_size, device, corpus_indices, idx_to_char,\n",
    "                          char_to_idx, is_random_iter, num_epochs, num_steps,\n",
    "                          lr, clipping_theta, batch_size, pred_period,\n",
    "                          pred_len, prefixes):\n",
    "    if is_random_iter:\n",
    "        data_iter_fn = d2l.data_iter_random\n",
    "    else:\n",
    "        data_iter_fn = d2l.data_iter_consecutive\n",
    "    params = get_params()\n",
    "    loss = nn.CrossEntropyLoss()\n",
    "\n",
    "    for epoch in range(num_epochs):\n",
    "        if not is_random_iter:  # 如使用相邻采样，在epoch开始时初始化隐藏状态\n",
    "            state = init_rnn_state(batch_size, num_hiddens, device)\n",
    "        l_sum, n, start = 0.0, 0, time.time()\n",
    "        data_iter = data_iter_fn(corpus_indices, batch_size, num_steps, device)\n",
    "        for X, Y in data_iter:\n",
    "            if is_random_iter:  # 如使用随机采样，在每个小批量更新前初始化隐藏状态\n",
    "                state = init_rnn_state(batch_size, num_hiddens, device)\n",
    "            else:  # 否则需要使用detach函数从计算图分离隐藏状态\n",
    "                for s in state:\n",
    "                    s.detach_()\n",
    "            \n",
    "            inputs = to_onehot(X, vocab_size)\n",
    "            # outputs有num_steps个形状为(batch_size, vocab_size)的矩阵\n",
    "            (outputs, state) = rnn(inputs, state, params)\n",
    "            # 拼接之后形状为(num_steps * batch_size, vocab_size)\n",
    "            outputs = torch.cat(outputs, dim=0)\n",
    "            # Y的形状是(batch_size, num_steps)，转置后再变成长度为\n",
    "            # batch * num_steps 的向量，这样跟输出的行一一对应\n",
    "            y = torch.transpose(Y, 0, 1).contiguous().view(-1)\n",
    "            # 使用交叉熵损失计算平均分类误差\n",
    "            l = loss(outputs, y.long())\n",
    "            \n",
    "            # 梯度清0\n",
    "            if params[0].grad is not None:\n",
    "                for param in params:\n",
    "                    param.grad.data.zero_()\n",
    "            l.backward()\n",
    "            grad_clipping(params, clipping_theta, device)  # 裁剪梯度\n",
    "            d2l.sgd(params, lr, 1)  # 因为误差已经取过均值，梯度不用再做平均\n",
    "            l_sum += l.item() * y.shape[0]\n",
    "            n += y.shape[0]\n",
    "\n",
    "        if (epoch + 1) % pred_period == 0:\n",
    "            print('epoch %d, perplexity %f, time %.2f sec' % (\n",
    "                epoch + 1, math.exp(l_sum / n), time.time() - start))\n",
    "            for prefix in prefixes:\n",
    "                print(' -', predict_rnn(prefix, pred_len, rnn, params, init_rnn_state,\n",
    "                    num_hiddens, vocab_size, device, idx_to_char, char_to_idx))"
   ]
  },
  {
   "cell_type": "code",
   "execution_count": 194,
   "metadata": {},
   "outputs": [],
   "source": [
    "num_epochs, num_steps, batch_size, lr, clipping_theta = 250, 35, 32, 1e2, 1e-2\n",
    "pred_period, pred_len, prefixes = 50, 50, ['分开', '不分开']\n"
   ]
  },
  {
   "cell_type": "code",
   "execution_count": 195,
   "metadata": {},
   "outputs": [
    {
     "name": "stdout",
     "output_type": "stream",
     "text": [
      "epoch 50, perplexity 69.644647, time 0.17 sec\n",
      " - 分开 我想要这生  爱有你的手写 我想你这你  爱有你有我  爱有你有你的 爱 我有你的可爱 我想要这不\n",
      " - 不分开  说你你的你  哼什么我不 我想要再想你 想知你这 我 我有你这 我有你的可爱 我有你这想  爱有\n",
      "epoch 100, perplexity 10.139438, time 0.16 sec\n",
      " - 分开 一直用它三步四步望著天 看星星 一颗两颗三颗四步望著天 看星星 一颗两颗三颗四颗望著天 看星星 一\n",
      " - 不分开只 我想能再 你 我知了这 你知我这多功 飞知后觉 快使我有轻功 飞知后双 快使我有轻功  哼穿好 \n",
      "epoch 150, perplexity 2.919702, time 0.16 sec\n",
      " - 分开 有短在人留 我爱往拖抽离 如果我遇见你是一场悲剧 我可以让生命就这样想会 你和还让我的糗  我 你\n",
      " - 不分开期 我后能爸 你我已外不想 爸说了我的手你 让我有红了 这场三么 你说完空出 白色蜡烛 温暖了空出 \n",
      "epoch 200, perplexity 1.590531, time 0.16 sec\n",
      " - 分开的凯萨琳 包括安猫斑鸠 腿短毛不多 除天都没有喝水也能活 脑袋瓜有一点秀逗 猎物死了它比谁都难过 印\n",
      " - 不分开期 我叫你爸 你打我妈 这样对吗 每这梦中 不敢感动 没有梦 连不知轻重 不有苦衷 问候我回轻的菸 \n",
      "epoch 250, perplexity 1.288062, time 0.16 sec\n",
      " - 分开球 像什不起天 不是都在难喝 为伤透 娘子她人在江南等我 泪不休 语沉默 娘子她人在江南等我 泪不休\n",
      " - 不分开期把的胖女巫 用拉丁文念咒语啦啦呜 她养的黑猫笑起来像哭 啦啦啦呜 再来我遇见得猜 看满个人中经刚不\n"
     ]
    }
   ],
   "source": [
    "train_and_predict_rnn(rnn, get_params, init_rnn_state, num_hiddens,\n",
    "vocab_size, device, corpus_indices, idx_to_char,\n",
    "char_to_idx, True, num_epochs, num_steps, lr,\n",
    "clipping_theta, batch_size, pred_period, pred_len,\n",
    "prefixes)\n"
   ]
  },
  {
   "cell_type": "code",
   "execution_count": 196,
   "metadata": {},
   "outputs": [
    {
     "name": "stdout",
     "output_type": "stream",
     "text": [
      "epoch 50, perplexity 60.713819, time 0.16 sec\n",
      " - 分开 我不要的爱写 我哼想这 快使我有 你谁我有 你谁我有 你谁我有 你谁我有 你谁我有 你谁我有 你谁\n",
      " - 不分开 我不要的可爱女人 坏坏的让我疯狂的可爱女人 坏坏的让我疯狂的可爱女人 坏坏的让我疯狂的可爱女人 坏\n",
      "epoch 100, perplexity 7.063266, time 0.15 sec\n",
      " - 分开 我想要 你怎么 一九四有 在来一碗热粥 配上几斤的牛肉 我说你没有 我马儿有些瘦 你不么 一直走 \n",
      " - 不分开觉 你样经离 我已在这开 我的往实 全暖了空  让没有在 我有多难熬  没有你在我有多烦熬多烦恼  \n",
      "epoch 150, perplexity 2.158558, time 0.16 sec\n",
      " - 分开 我已能 是果有 装一了有信 我唱 他些啊 旧什么 是一些的霜片开 干什么 干什么 东行我有脚踢的 \n",
      " - 不分开觉 你已经离 我已不觉 我想没真 你的梦空 有自不同 你你心用 不没有同 你一场痛 不自不同 你你心\n",
      "epoch 200, perplexity 1.304530, time 0.16 sec\n",
      " - 分开 我说啊 是是于睛看手 不有得很隐密 它隔壁一个人 什么都会值得去做 我想大声宣布 对你依依不舍 连\n",
      " - 不分开觉 你已经离 我跟不这个过 后知后觉 又过了一个秋 后知后觉 我该好好生活 我该好好生活 不知不觉 \n",
      "epoch 250, perplexity 1.173610, time 0.16 sec\n",
      " - 分开 我的啊 如果载的烟痛 有直人对医 谁让它停留的 它涯拥有 只天黄双个屈 一身正气 他们儿离我习惯 \n",
      " - 不分开觉 你已经离 我知不这样的坟墓 古会里一格荒芜 长满杂草的泥土 不会骑扫把的胖女巫 用拉丁文念咒语啦\n"
     ]
    }
   ],
   "source": [
    "train_and_predict_rnn(rnn, get_params, init_rnn_state, num_hiddens,\n",
    "vocab_size, device, corpus_indices, idx_to_char,\n",
    "char_to_idx, False, num_epochs, num_steps, lr,\n",
    "clipping_theta, batch_size, pred_period, pred_len,\n",
    "prefixes)\n"
   ]
  },
  {
   "cell_type": "markdown",
   "metadata": {},
   "source": [
    "# 6.5 循环神经网络的简介实现"
   ]
  },
  {
   "cell_type": "code",
   "execution_count": 199,
   "metadata": {},
   "outputs": [],
   "source": [
    "import time\n",
    "import math \n",
    "import numpy as np\n",
    "import torch\n",
    "from torch import nn,optim\n",
    "import torch.nn.functional as F\n",
    "import sys\n",
    "sys.path.append(\"..\")\n",
    "import d2lzh_pytorch as d2l\n",
    "device=torch.device(torch.device(\"cuda\"))\n",
    "(corpus_indices, char_to_idx, idx_to_char, vocab_size) = d2l.load_data_jay_lyrics()\n"
   ]
  },
  {
   "cell_type": "code",
   "execution_count": 200,
   "metadata": {},
   "outputs": [],
   "source": [
    "num_hiddens=256\n",
    "rnn_layer=nn.RNN(input_size=vocab_size,hidden_size=num_hiddens)"
   ]
  },
  {
   "cell_type": "code",
   "execution_count": 201,
   "metadata": {},
   "outputs": [
    {
     "name": "stdout",
     "output_type": "stream",
     "text": [
      "torch.Size([35, 2, 256]) 1 torch.Size([2, 256])\n"
     ]
    }
   ],
   "source": [
    "num_steps=35\n",
    "batch_size=2\n",
    "state=None\n",
    "x=torch.rand(num_steps,batch_size,vocab_size)\n",
    "y,state_new=rnn_layer(x,state)\n",
    "print(y.shape,len(state_new),state_new[0].shape)\n"
   ]
  },
  {
   "cell_type": "code",
   "execution_count": 206,
   "metadata": {},
   "outputs": [],
   "source": [
    "class rnnmodel(nn.Module):\n",
    "    def __init__(self,rnn_layer,vocab_size):\n",
    "        super(rnnmodel,self).__init__()\n",
    "        self.rnn=rnn_layer\n",
    "        self.hidden_size=rnn_layer.hidden_size*(2 if rnn_layer.bidirectional else 1)\n",
    "        self.vocab_size=vocab_size\n",
    "        self.dense=nn.Linear(self.hidden_size,vocab_size)\n",
    "        self.state=None\n",
    "    def forward(self,inputs,state):\n",
    "        x=d2l.to_onehot(inputs,self.vocab_size)\n",
    "        y,self.state=self.rnn(torch.stack(x),state)\n",
    "        output=self.dense(y.view(-1,y.shape[-1]))\n",
    "        return output, self.state"
   ]
  },
  {
   "cell_type": "code",
   "execution_count": 242,
   "metadata": {},
   "outputs": [],
   "source": [
    "def predict_rnn_pytorch(prefix,num_chars,model,vocab_size,device,\n",
    "                       idx_to_char,char_to_idx):\n",
    "    state=None\n",
    "    output=[char_to_idx[prefix[0]]]\n",
    "    for t in range(num_chars+len(prefix)-1):\n",
    "        x=torch.tensor([output[-1]],device=device).view(1,1)\n",
    "        if state is not None:\n",
    "            if isinstance(state,tuple):#判断state是否为tuple\n",
    "                state=(state[0].to(device),state[1].to(device))\n",
    "            else:\n",
    "                state=state.to(device)\n",
    "            \n",
    "        (y,state)=model(x,state)\n",
    "        if t<len(prefix)-1:\n",
    "            output.append(char_to_idx[prefix[t+1]])\n",
    "        else:\n",
    "            output.append(int(y.argmax(dim=1).item()))\n",
    "    return \"\".join([idx_to_char[i] for i in output])\n",
    "            "
   ]
  },
  {
   "cell_type": "code",
   "execution_count": 243,
   "metadata": {},
   "outputs": [
    {
     "data": {
      "text/plain": [
       "'分开梭达两梭两梭两梭两梭'"
      ]
     },
     "execution_count": 243,
     "metadata": {},
     "output_type": "execute_result"
    }
   ],
   "source": [
    "model = rnnmodel(rnn_layer, vocab_size).to(device)\n",
    "predict_rnn_pytorch('分开', 10, model, vocab_size, device, idx_to_char, char_to_idx)\n"
   ]
  },
  {
   "cell_type": "code",
   "execution_count": 244,
   "metadata": {},
   "outputs": [],
   "source": [
    "# 本函数已保存在d2lzh_pytorch包中方便以后使用\n",
    "def train_and_predict_rnn_pytorch(model, num_hiddens, vocab_size, device,\n",
    "                                corpus_indices, idx_to_char, char_to_idx,\n",
    "                                num_epochs, num_steps, lr, clipping_theta,\n",
    "                                batch_size, pred_period, pred_len, prefixes):\n",
    "    loss = nn.CrossEntropyLoss()\n",
    "    optimizer = torch.optim.Adam(model.parameters(), lr=lr)\n",
    "    model.to(device)\n",
    "    state = None\n",
    "    for epoch in range(num_epochs):\n",
    "        l_sum, n, start = 0.0, 0, time.time()\n",
    "        data_iter = d2l.data_iter_consecutive(corpus_indices, batch_size, num_steps, device) # 相邻采样\n",
    "        for X, Y in data_iter:\n",
    "            if state is not None:\n",
    "                # 使用detach函数从计算图分离隐藏状态, 这是为了\n",
    "                # 使模型参数的梯度计算只依赖一次迭代读取的小批量序列(防止梯度计算开销太大)\n",
    "                if isinstance (state, tuple): # LSTM, state:(h, c)  \n",
    "                    state = (state[0].detach(), state[1].detach())\n",
    "                else:   \n",
    "                    state = state.detach()\n",
    "    \n",
    "            (output, state) = model(X, state) # output: 形状为(num_steps * batch_size, vocab_size)\n",
    "            \n",
    "            # Y的形状是(batch_size, num_steps)，转置后再变成长度为\n",
    "            # batch * num_steps 的向量，这样跟输出的行一一对应\n",
    "            y = torch.transpose(Y, 0, 1).contiguous().view(-1)\n",
    "            l = loss(output, y.long())\n",
    "            \n",
    "            optimizer.zero_grad()\n",
    "            l.backward()\n",
    "            # 梯度裁剪\n",
    "            d2l.grad_clipping(model.parameters(), clipping_theta, device)\n",
    "            optimizer.step()\n",
    "            l_sum += l.item() * y.shape[0]\n",
    "            n += y.shape[0]\n",
    "        \n",
    "        try:\n",
    "            perplexity = math.exp(l_sum / n)\n",
    "        except OverflowError:\n",
    "            perplexity = float('inf')\n",
    "        if (epoch + 1) % pred_period == 0:\n",
    "            print('epoch %d, perplexity %f, time %.2f sec' % (\n",
    "                epoch + 1, perplexity, time.time() - start))\n",
    "            for prefix in prefixes:\n",
    "                print(' -', predict_rnn_pytorch(\n",
    "                    prefix, pred_len, model, vocab_size, device, idx_to_char,\n",
    "                    char_to_idx))"
   ]
  },
  {
   "cell_type": "code",
   "execution_count": 245,
   "metadata": {
    "scrolled": true
   },
   "outputs": [
    {
     "name": "stdout",
     "output_type": "stream",
     "text": [
      "epoch 50, perplexity 8.944099, time 0.05 sec\n",
      " - 分开 我不了 爱 我不能再想 我不 我不 我想 你不要再想  想要你不能再想 我想要你不能我想 你想你我\n",
      " - 不分开 我想你你爱你我不  想要你不能再想 我想你你不 我不 再想要我不要再想 我想 你不能我想 你想你我\n",
      "epoch 100, perplexity 1.246496, time 0.05 sec\n",
      " - 分开 我的始爸着 我想的 不能再想你这样打我妈  爱你 你 我不懂 你怎么我 你 你知了口 是可以可以简\n",
      " - 不分开始 会生活  不能不觉 我不能看想  说你说你 手 我痛  为什么 不要再一个 不想就这样牵着你的手\n",
      "epoch 150, perplexity 1.064673, time 0.05 sec\n",
      " - 分开 我的始爸你 会想要再想要我想 你说 分不 我想要 说你说你 你怎么 想要再这样打我妈妈 我说的话你\n",
      " - 不分开始 像生活 我爱上的可爱 悲笑 我有人 对你 回忆的 得它上话 一场悲剧 你的完美主义 太彻底 让我\n",
      "epoch 200, perplexity 1.032861, time 0.05 sec\n",
      " - 分开 我的泪看着 就想 你怎么我的妈都会 再想要 你是我不想你  没说你烦在 我 懂不要再这样 甜蜜回让\n",
      " - 不分开不 我不要再想你 爱情来的太快就像龙卷风 离不开暴风圈来不及逃 我不能再想 我不能再想 我不 我不 \n",
      "epoch 250, perplexity 1.031139, time 0.05 sec\n",
      " - 分开 我的泪看着 就想 我想大听不知后觉 你已经离开我 不知不觉 我跟了这节奏 后知后觉 又过了一个秋 \n",
      " - 不分开  没担了 还对我了大堡  说散 你想很久了吧? 我的认真败给黑色幽默 走过了很多地方 我来到伊斯坦\n"
     ]
    }
   ],
   "source": [
    "num_epochs, batch_size, lr, clipping_theta = 250, 32, 1e-3, 1e-2 # 注意这里的学习率设置\n",
    "pred_period, pred_len, prefixes = 50, 50, ['分开', '不分开']\n",
    "train_and_predict_rnn_pytorch(model, num_hiddens, vocab_size, device,\n",
    "corpus_indices, idx_to_char, char_to_idx,\n",
    "num_epochs, num_steps, lr, clipping_theta,\n",
    "batch_size, pred_period, pred_len, prefixes)\n"
   ]
  },
  {
   "cell_type": "markdown",
   "metadata": {},
   "source": [
    "# 6.6 通过时间反向传播"
   ]
  },
  {
   "cell_type": "markdown",
   "metadata": {},
   "source": [
    "# 6.7 门控循环单元"
   ]
  },
  {
   "cell_type": "markdown",
   "metadata": {},
   "source": [
    "$$H_t=Z_t \\odot H_{t-1}+(1-Z_t)\\odot \\tilde{H_t}$$\n",
    "\n",
    "其中$H_t$是时间步的隐藏状态,$Z_t$是更新门的结果,$\\tilde{H_t}$是候选隐藏状态,其计算过程为:\n",
    "\n",
    "$$\\tilde{H_t}=\\tanh (x_t W_{xh}+(R_t \\odot H_{t-1})W_{hh}+b_h)$$\n",
    "\n",
    "其中$w$为不同的权重参数,$b$为不同的偏差函数,$R_t$ 为重置门输出结果,重置门与更新门的计算如下:\n",
    "\n",
    "$$R_t=\\sigma(x_tw_{xr}+H_{t-1}W_{hr}+b_r) \\\\Z_t=\\sigma(x_tw_{xz}+H_{t-1}W_{hz}+b_r)$$\n",
    "\n",
    "最后可以的出$y$的计算如下:\n",
    "$$y=H_tW_{hq}+b_q$$"
   ]
  },
  {
   "cell_type": "code",
   "execution_count": 246,
   "metadata": {},
   "outputs": [],
   "source": [
    "import numpy as np\n",
    "import torch\n",
    "from torch import nn, optim\n",
    "import torch.nn.functional as F\n",
    "import sys\n",
    "sys.path.append(\"..\")\n",
    "import d2lzh_pytorch as d2l\n",
    "device = torch.device('cuda' if torch.cuda.is_available() else 'cpu')\n",
    "(corpus_indices, char_to_idx, idx_to_char, vocab_size) = d2l.load_data_jay_lyrics()\n"
   ]
  },
  {
   "cell_type": "code",
   "execution_count": 247,
   "metadata": {},
   "outputs": [
    {
     "name": "stdout",
     "output_type": "stream",
     "text": [
      "will use cuda\n"
     ]
    }
   ],
   "source": [
    "num_inputs, num_hiddens, num_outputs = vocab_size, 256, vocab_size\n",
    "print('will use', device)\n"
   ]
  },
  {
   "cell_type": "code",
   "execution_count": 253,
   "metadata": {},
   "outputs": [],
   "source": [
    "def get_params():\n",
    "    def _one(shape):\n",
    "        ts = torch.tensor(np.random.normal(0, 0.01, size=shape), device=device, dtype=torch.float32)\n",
    "        return torch.nn.Parameter(ts, requires_grad=True)\n",
    "    def _three():\n",
    "        return (_one((num_inputs, num_hiddens)),\n",
    "                _one((num_hiddens, num_hiddens)),\n",
    "                torch.nn.Parameter(torch.zeros(num_hiddens, device=device, dtype=torch.float32), requires_grad=True))\n",
    "    \n",
    "    W_xz, W_hz, b_z = _three()  # 更新门参数\n",
    "    W_xr, W_hr, b_r = _three()  # 重置门参数\n",
    "    W_xh, W_hh, b_h = _three()  # 候选隐藏状态参数\n",
    "    \n",
    "    # 输出层参数\n",
    "    W_hq = _one((num_hiddens, num_outputs))\n",
    "    b_q = torch.nn.Parameter(torch.zeros(num_outputs, device=device, dtype=torch.float32), requires_grad=True)\n",
    "    return nn.ParameterList([W_xz, W_hz, b_z, W_xr, W_hr, b_r, W_xh, W_hh, b_h, W_hq, b_q])"
   ]
  },
  {
   "cell_type": "code",
   "execution_count": 254,
   "metadata": {},
   "outputs": [],
   "source": [
    "def init_gru_state(batch_size, num_hiddens, device):\n",
    "    return (torch.zeros((batch_size, num_hiddens), device=device), )\n"
   ]
  },
  {
   "cell_type": "code",
   "execution_count": 255,
   "metadata": {},
   "outputs": [],
   "source": [
    "def gru(inputs, state, params):\n",
    "    W_xz, W_hz, b_z, W_xr, W_hr, b_r, W_xh, W_hh, b_h, W_hq, b_q = params\n",
    "    H, = state\n",
    "    outputs = []\n",
    "    for X in inputs:\n",
    "        Z = torch.sigmoid(torch.matmul(X, W_xz) + torch.matmul(H, W_hz) + b_z)\n",
    "        R = torch.sigmoid(torch.matmul(X, W_xr) + torch.matmul(H, W_hr) + b_r)\n",
    "        H_tilda = torch.tanh(torch.matmul(X, W_xh) + R * torch.matmul(H, W_hh) + b_h)\n",
    "        H = Z * H + (1 - Z) * H_tilda\n",
    "        Y = torch.matmul(H, W_hq) + b_q\n",
    "        outputs.append(Y)\n",
    "    return outputs, (H,)"
   ]
  },
  {
   "cell_type": "code",
   "execution_count": 256,
   "metadata": {},
   "outputs": [],
   "source": [
    "num_epochs, num_steps, batch_size, lr, clipping_theta = 160, 35, 32, 1e2, 1e-2\n",
    "pred_period, pred_len, prefixes = 40, 50, ['分开', '不分开']\n"
   ]
  },
  {
   "cell_type": "code",
   "execution_count": 257,
   "metadata": {},
   "outputs": [
    {
     "name": "stdout",
     "output_type": "stream",
     "text": [
      "epoch 40, perplexity 149.598042, time 0.40 sec\n",
      " - 分开 我想你 我想你 我想你 你不不 我想你 你不不 我想你 你不不 我想你 你不不 我想你 你不不 我\n",
      " - 不分开 我想你 我想你 我想你 你不不 我想你 你不不 我想你 你不不 我想你 你不不 我想你 你不不 我\n",
      "epoch 80, perplexity 32.808943, time 0.39 sec\n",
      " - 分开 我想要你想想你 我不要再想 我不要再想 我不要再想 我不要再想 我不要再想 我不要再想 我不要再想\n",
      " - 不分开 我不要再想你 我不要再想 我不要再想 我不要再想 我不要再想 我不要再想 我不要再想 我不要再想 \n",
      "epoch 120, perplexity 5.030714, time 0.39 sec\n",
      " - 分开 一直个人落人的响尾 古著一双吴昏 你的完美主义 太彻底 它手的话像语听的暴            \n",
      " - 不分开 你已经离开我 不知不觉 我跟了这节奏 后知后觉 又过了一个秋 后知后觉 我该好好生活 我该好好生活\n",
      "epoch 160, perplexity 1.438310, time 0.40 sec\n",
      " - 分开 一个个人落边 它在许愿 习人了空屋 白色蜡烛 温暖了空屋 白色蜡烛 温暖了空屋 白色蜡烛 温暖了空\n",
      " - 不分开 你已经离开我 不知不觉 我跟了这节奏 后知后觉 又过了一个秋 后知后觉 我该好好生活 我该好好生活\n"
     ]
    }
   ],
   "source": [
    "d2l.train_and_predict_rnn(gru, get_params, init_gru_state, num_hiddens,\n",
    "vocab_size, device, corpus_indices, idx_to_char,\n",
    "char_to_idx, False, num_epochs, num_steps, lr,\n",
    "clipping_theta, batch_size, pred_period, pred_len,\n",
    "prefixes)\n"
   ]
  },
  {
   "cell_type": "code",
   "execution_count": 258,
   "metadata": {},
   "outputs": [
    {
     "name": "stdout",
     "output_type": "stream",
     "text": [
      "epoch 40, perplexity 1.016776, time 0.05 sec\n",
      " - 分开始共渡每一天 手牵手 一步两步三步四步望著天 看星星 一颗两颗三颗四颗 连成线背著背默默许下心愿 看\n",
      " - 不分开任督二脉 干什么 干什么 东亚病夫的招牌 干什么 干什么 已被我一脚踢开 快使用双截棍 哼哼哈兮 快\n",
      "epoch 80, perplexity 1.018032, time 0.05 sec\n",
      " - 分开始共渡每一天 手牵手 一步两步三步四步望著天 看星星 一颗两颗三颗四颗 连成线背著背默默许下心愿 看\n",
      " - 不分开暴风圈来不及逃 我不能再想 我不能再想 我不 我不 我不能 爱情走的太快就像龙卷风 不能承受我已无处\n",
      "epoch 120, perplexity 1.011281, time 0.05 sec\n",
      " - 分开 誓言太沉重泪被纵容 脸上汹涌失控 城市霓虹 不安跳动 染红夜空 过去种种 象一场梦 不敢去碰 一想\n",
      " - 不分开暴风圈来不及逃 我不能再想 我不能再想 我不 我不 我不能 爱情走的太快就像龙卷风 不能承受我已无处\n",
      "epoch 160, perplexity 1.011430, time 0.05 sec\n",
      " - 分开 学少林跟武当 快使用双截棍 哼哼哈兮 快使用双截棍柔中带刚 想要去河南嵩山 学少林跟武当 快使用双\n",
      " - 不分开始打我 你知道 安静的听你撒娇 看你睡著一直到老 就是开不了口让她知道 就是那么简单几句 我办不到 \n"
     ]
    }
   ],
   "source": [
    "lr=1e-2\n",
    "gru_layer=nn.GRU(input_size=vocab_size,hidden_size=num_hiddens)\n",
    "model=d2l.RNNModel(gru_layer,vocab_size).to(device)\n",
    "d2l.train_and_predict_rnn_pytorch(model, num_hiddens, vocab_size, device,\n",
    "corpus_indices, idx_to_char, char_to_idx,\n",
    "num_epochs, num_steps, lr, clipping_theta,\n",
    "batch_size, pred_period, pred_len, prefixes)\n"
   ]
  },
  {
   "cell_type": "markdown",
   "metadata": {},
   "source": [
    "# 长短期记忆 LSTM"
   ]
  },
  {
   "cell_type": "markdown",
   "metadata": {},
   "source": [
    "最后输出$y$ 的计算如下:(下述中$W$与$b$分别为对应的系数)\n",
    "$$y=H_tW_{hq}+b_q$$\n",
    "其中$H$ 为隐藏状态,计算如下:\n",
    "$$H_t=O_t \\odot \\tanh (C_t)$$\n",
    "\n",
    "其中$O_t$ 和$C_t$ 分别为当前输出门的结果和当前记忆细胞的结果,计算如下:\n",
    "\n",
    "$$O_t=\\sigma (x_tW_{x0}+H_{t-1}W_{h0}+b_0)\n",
    "\\\\C_t=F_t \\odot C_{t-1}+I_t \\odot \\tilde{C_t}$$\n",
    "\n",
    "其中 $F_t$,$I_t$,$\\tilde{C_t}$分别为遗忘门的结果,输入门的结果和候选记忆细胞,其计算如下:\n",
    "\n",
    "$$\n",
    "F_t=\\sigma (x_tW_{xi}+H_{t-1}W_{hi}+b_i)\\\\\n",
    "I_t=\\sigma (x_tW_{xf}+H_{t-1}W_{hf}+b_f)\\\\\n",
    "\\tilde{C_t}=\\tanh (x_tW_{xc}+H_{t-1}W_{hc}+b_c)\n",
    "$$"
   ]
  },
  {
   "cell_type": "code",
   "execution_count": 265,
   "metadata": {},
   "outputs": [
    {
     "name": "stdout",
     "output_type": "stream",
     "text": [
      "1.2.0 cuda\n"
     ]
    }
   ],
   "source": [
    "import numpy as np\n",
    "import torch\n",
    "from torch import nn, optim\n",
    "import torch.nn.functional as F\n",
    "\n",
    "import sys\n",
    "sys.path.append(\"..\") \n",
    "import d2lzh_pytorch as d2l\n",
    "device = torch.device('cuda' if torch.cuda.is_available() else 'cpu')\n",
    "\n",
    "(corpus_indices, char_to_idx, idx_to_char, vocab_size) = d2l.load_data_jay_lyrics()\n",
    "\n",
    "print(torch.__version__, device)"
   ]
  },
  {
   "cell_type": "code",
   "execution_count": 266,
   "metadata": {},
   "outputs": [
    {
     "name": "stdout",
     "output_type": "stream",
     "text": [
      "will use cuda\n"
     ]
    }
   ],
   "source": [
    "num_inputs, num_hiddens, num_outputs = vocab_size, 256, vocab_size\n",
    "print('will use', device)\n",
    "\n",
    "def get_params():\n",
    "    def _one(shape):\n",
    "        ts = torch.tensor(np.random.normal(0, 0.01, size=shape), device=device, dtype=torch.float32)\n",
    "        return torch.nn.Parameter(ts, requires_grad=True)\n",
    "    def _three():\n",
    "        return (_one((num_inputs, num_hiddens)),\n",
    "                _one((num_hiddens, num_hiddens)),\n",
    "                torch.nn.Parameter(torch.zeros(num_hiddens, device=device, dtype=torch.float32), requires_grad=True))\n",
    "    \n",
    "    W_xi, W_hi, b_i = _three()  # 输入门参数\n",
    "    W_xf, W_hf, b_f = _three()  # 遗忘门参数\n",
    "    W_xo, W_ho, b_o = _three()  # 输出门参数\n",
    "    W_xc, W_hc, b_c = _three()  # 候选记忆细胞参数\n",
    "    \n",
    "    # 输出层参数\n",
    "    W_hq = _one((num_hiddens, num_outputs))\n",
    "    b_q = torch.nn.Parameter(torch.zeros(num_outputs, device=device, dtype=torch.float32), requires_grad=True)\n",
    "    return nn.ParameterList([W_xi, W_hi, b_i, W_xf, W_hf, b_f, W_xo, W_ho, b_o, W_xc, W_hc, b_c, W_hq, b_q])"
   ]
  },
  {
   "cell_type": "code",
   "execution_count": 267,
   "metadata": {},
   "outputs": [],
   "source": [
    "def init_lstm_state(batch_size, num_hiddens, device):\n",
    "    return (torch.zeros((batch_size, num_hiddens), device=device), \n",
    "            torch.zeros((batch_size, num_hiddens), device=device))"
   ]
  },
  {
   "cell_type": "code",
   "execution_count": 268,
   "metadata": {},
   "outputs": [],
   "source": [
    "def lstm(inputs, state, params):\n",
    "    [W_xi, W_hi, b_i, W_xf, W_hf, b_f, W_xo, W_ho, b_o, W_xc, W_hc, b_c, W_hq, b_q] = params\n",
    "    (H, C) = state\n",
    "    outputs = []\n",
    "    for X in inputs:\n",
    "        I = torch.sigmoid(torch.matmul(X, W_xi) + torch.matmul(H, W_hi) + b_i)\n",
    "        F = torch.sigmoid(torch.matmul(X, W_xf) + torch.matmul(H, W_hf) + b_f)\n",
    "        O = torch.sigmoid(torch.matmul(X, W_xo) + torch.matmul(H, W_ho) + b_o)\n",
    "        C_tilda = torch.tanh(torch.matmul(X, W_xc) + torch.matmul(H, W_hc) + b_c)\n",
    "        C = F * C + I * C_tilda\n",
    "        H = O * C.tanh()\n",
    "        Y = torch.matmul(H, W_hq) + b_q\n",
    "        outputs.append(Y)\n",
    "    return outputs, (H, C)"
   ]
  },
  {
   "cell_type": "code",
   "execution_count": 269,
   "metadata": {},
   "outputs": [],
   "source": [
    "num_epochs, num_steps, batch_size, lr, clipping_theta = 160, 35, 32, 1e2, 1e-2\n",
    "pred_period, pred_len, prefixes = 40, 50, ['分开', '不分开']"
   ]
  },
  {
   "cell_type": "code",
   "execution_count": 270,
   "metadata": {},
   "outputs": [
    {
     "name": "stdout",
     "output_type": "stream",
     "text": [
      "epoch 40, perplexity 214.763703, time 0.44 sec\n",
      " - 分开 我不不 我不我你 我不你我 我不你我 我不你我 我不你我 我不你我 我不你我 我不你我 我不你我 \n",
      " - 不分开 我不不我 我不你我 我不你我 我不你我 我不你我 我不你我 我不你我 我不你我 我不你我 我不你我\n",
      "epoch 80, perplexity 66.612539, time 0.44 sec\n",
      " - 分开 我想你你的你 我想要你 我不要这 我不要这 我不要这 我不要这 我不要这 我不要这 我不要这 我不\n",
      " - 不分开 我想你你的你 我不要你 我不要这 我不要这 我不要这 我不要这 我不要这 我不要这 我不要这 我不\n",
      "epoch 120, perplexity 15.502695, time 0.44 sec\n",
      " - 分开 我想你你 我有多烦 我不要再生活 你知去觉 我该了这生活 我知好觉 我不了这生活 后知后觉 我该好\n",
      " - 不分开 我不要你 我不要这样 我不好觉 我不不好生活 后知后觉 我该好好生活 我知好觉 我不了这生活 后知\n",
      "epoch 160, perplexity 3.939239, time 0.45 sec\n",
      " - 分开 你是你的话有 一悔  又念很 我想就这些信着你 干什么手手得多 他物棍跟了嵩山 我说你的话快有样 \n",
      " - 不分开 我想要你 我我要多熬 我不你没生活 你知你觉一直 连直歌邻居都到到我现想的感受 河血的美蜜 吹吹着\n"
     ]
    }
   ],
   "source": [
    "d2l.train_and_predict_rnn(lstm, get_params, init_lstm_state, num_hiddens,\n",
    "                          vocab_size, device, corpus_indices, idx_to_char,\n",
    "                          char_to_idx, False, num_epochs, num_steps, lr,\n",
    "                          clipping_theta, batch_size, pred_period, pred_len,\n",
    "                          prefixes)"
   ]
  },
  {
   "cell_type": "code",
   "execution_count": 271,
   "metadata": {},
   "outputs": [
    {
     "name": "stdout",
     "output_type": "stream",
     "text": [
      "epoch 40, perplexity 1.024684, time 0.05 sec\n",
      " - 分开始移动 回到当初爱你的时空 停格内容不忠 所有回忆对着我进攻       古巴比伦王颁布了汉摩拉比法\n",
      " - 不分开始移动 回到当初爱你的时空 停格内容不忠 所有回忆对着我进攻       古巴比伦王颁布了汉摩拉比法\n",
      "epoch 80, perplexity 1.013150, time 0.05 sec\n",
      " - 分开始移动 回到当初爱你的时空 停格内容不忠 所有回忆对着我进攻 我的伤口被你拆封 誓言太沉重泪被纵容 \n",
      " - 不分开  能不能够永远单纯没有悲哀 我 想带你骑单车 我 想和你看棒球 想这样没担忧 唱着歌 一直走 我想\n",
      "epoch 120, perplexity 1.012132, time 0.05 sec\n",
      " - 分开始移动 回到当初爱你的时空 停格内容不忠 所有回忆对着我进攻 我的伤口被你拆封 誓言太沉重泪被纵容 \n",
      " - 不分开 爱能不能够永远单纯没有悲哀 我 想带你骑单车 我 想和你看棒球 想这样没担忧 唱着歌 一直走 我想\n",
      "epoch 160, perplexity 1.008434, time 0.05 sec\n",
      " - 分开始移动 回到当初爱你的时空 停格内容不忠 所有回忆对着我进攻 我的伤口被你拆封 誓言太沉重泪被纵容 \n",
      " - 不分开 爱能不能够永远单纯没有悲哀 我 想带你骑单车 我 想和你看棒球 想这样没担忧 唱着歌 一直走 我想\n"
     ]
    }
   ],
   "source": [
    "lr=1e-2\n",
    "lstm_layer=nn.LSTM(input_size=vocab_size,hidden_size=num_hiddens)\n",
    "model=d2l.RNNModel(lstm_layer,vocab_size)\n",
    "d2l.train_and_predict_rnn_pytorch(model, num_hiddens, vocab_size, device,\n",
    "corpus_indices, idx_to_char, char_to_idx,\n",
    "num_epochs, num_steps, lr, clipping_theta,\n",
    "batch_size, pred_period, pred_len, prefixes)\n"
   ]
  },
  {
   "cell_type": "code",
   "execution_count": null,
   "metadata": {},
   "outputs": [],
   "source": []
  }
 ],
 "metadata": {
  "kernelspec": {
   "display_name": "Python 3",
   "language": "python",
   "name": "python3"
  },
  "language_info": {
   "codemirror_mode": {
    "name": "ipython",
    "version": 3
   },
   "file_extension": ".py",
   "mimetype": "text/x-python",
   "name": "python",
   "nbconvert_exporter": "python",
   "pygments_lexer": "ipython3",
   "version": "3.7.1"
  }
 },
 "nbformat": 4,
 "nbformat_minor": 2
}
